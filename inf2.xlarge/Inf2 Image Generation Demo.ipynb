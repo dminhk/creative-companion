{
 "cells": [
  {
   "cell_type": "markdown",
   "id": "b10a9f99-1347-42f8-9197-2670e531b11d",
   "metadata": {},
   "source": [
    "# SDXL Image Generation using Inf2.xlarge instance"
   ]
  },
  {
   "cell_type": "code",
   "execution_count": 1,
   "id": "0c74b46e-9505-4476-9079-42a9f1f977d5",
   "metadata": {},
   "outputs": [
    {
     "data": {
      "application/vnd.jupyter.widget-view+json": {
       "model_id": "e2b5c070ac4f4913ba2d0db2f0597204",
       "version_major": 2,
       "version_minor": 0
      },
      "text/plain": [
       "Fetching 20 files:   0%|          | 0/20 [00:00<?, ?it/s]"
      ]
     },
     "metadata": {},
     "output_type": "display_data"
    }
   ],
   "source": [
    "from optimum.neuron import NeuronStableDiffusionXLPipeline\n",
    "\n",
    "stable_diffusion_xl = NeuronStableDiffusionXLPipeline.from_pretrained(\n",
    "    model_id=\"dminhk/stable-diffusion-xl-base-1.0-neuronx\", num_inference_steps=20, device_ids=[0, 1]\n",
    ")"
   ]
  },
  {
   "cell_type": "code",
   "execution_count": 2,
   "id": "427ebf23-5ded-4bd0-99f7-3607014d67e1",
   "metadata": {},
   "outputs": [
    {
     "data": {
      "application/vnd.jupyter.widget-view+json": {
       "model_id": "8f349bd2f09c465a8f5ce5e2d29ecf10",
       "version_major": 2,
       "version_minor": 0
      },
      "text/plain": [
       "  0%|          | 0/50 [00:00<?, ?it/s]"
      ]
     },
     "metadata": {},
     "output_type": "display_data"
    }
   ],
   "source": [
    "prompt = \"Fashion Magazine Cover, cute dog in a candid pose wearing beautiful clothes, half body photoshoot, Magazine photoshoot, Studio Lighting, Creative trippy aesthetic white background, Modern look\"\n",
    "#prompt = \"Pawsitively Paw-some Pups! decorate with balloons shaped like bones and paws, have games like Musical Squeaky Toys and Fetch Trivia, and even serve treats like Pupcorn and Barking Brownies. make sure all the furry guests have plenty of water and comfortable spots to nap during the festivities\"\n",
    "image = stable_diffusion_xl(prompt).images[0]\n",
    "image.save(\"./dog-image1.png\")"
   ]
  },
  {
   "cell_type": "code",
   "execution_count": 3,
   "id": "c174634c-6363-4a86-8948-ebdd998df57e",
   "metadata": {},
   "outputs": [
    {
     "data": {
      "application/vnd.jupyter.widget-view+json": {
       "model_id": "530864ad6af64100976b3381c78da914",
       "version_major": 2,
       "version_minor": 0
      },
      "text/plain": [
       "  0%|          | 0/50 [00:00<?, ?it/s]"
      ]
     },
     "metadata": {},
     "output_type": "display_data"
    }
   ],
   "source": [
    "prompt = \"Fashion Magazine Cover, cute dog in a candid pose wearing beautiful clothes, half body photoshoot, Magazine photoshoot, Studio Lighting, Creative trippy aesthetic white background, Modern look\"\n",
    "#prompt = \"Pawsitively Paw-some Pups! decorate with balloons shaped like bones and paws, have games like Musical Squeaky Toys and Fetch Trivia, and even serve treats like Pupcorn and Barking Brownies. make sure all the furry guests have plenty of water and comfortable spots to nap during the festivities\"\n",
    "image = stable_diffusion_xl(prompt).images[0]\n",
    "image.save(\"./dog-image2.png\")"
   ]
  },
  {
   "cell_type": "code",
   "execution_count": 4,
   "id": "c114b021-1c23-482c-875d-1caeadcc8376",
   "metadata": {},
   "outputs": [
    {
     "data": {
      "application/vnd.jupyter.widget-view+json": {
       "model_id": "ba50b3a542bf4939bb36ab65208aff91",
       "version_major": 2,
       "version_minor": 0
      },
      "text/plain": [
       "  0%|          | 0/50 [00:00<?, ?it/s]"
      ]
     },
     "metadata": {},
     "output_type": "display_data"
    }
   ],
   "source": [
    "prompt = \"Fashion Magazine Cover, cute dog in a candid pose wearing beautiful clothes, half body photoshoot, Magazine photoshoot, Studio Lighting, Creative trippy aesthetic white background, Modern look\"\n",
    "#prompt = \"Pawsitively Paw-some Pups! decorate with balloons shaped like bones and paws, have games like Musical Squeaky Toys and Fetch Trivia, and even serve treats like Pupcorn and Barking Brownies. make sure all the furry guests have plenty of water and comfortable spots to nap during the festivities\"\n",
    "image = stable_diffusion_xl(prompt).images[0]\n",
    "image.save(\"./dog-image3.png\")"
   ]
  },
  {
   "cell_type": "code",
   "execution_count": 5,
   "id": "6ce6a7fb-ae50-4a48-84b4-3637af0b9bab",
   "metadata": {},
   "outputs": [
    {
     "data": {
      "application/vnd.jupyter.widget-view+json": {
       "model_id": "87d324eea53846a4ab6855f75da5d645",
       "version_major": 2,
       "version_minor": 0
      },
      "text/plain": [
       "  0%|          | 0/50 [00:00<?, ?it/s]"
      ]
     },
     "metadata": {},
     "output_type": "display_data"
    }
   ],
   "source": [
    "prompt = \"Fashion Magazine Cover, cute dog in a candid pose wearing beautiful clothes, half body photoshoot, Magazine photoshoot, Studio Lighting, Creative trippy aesthetic white background, Modern look\"\n",
    "#prompt = \"Pawsitively Paw-some Pups! decorate with balloons shaped like bones and paws, have games like Musical Squeaky Toys and Fetch Trivia, and even serve treats like Pupcorn and Barking Brownies. make sure all the furry guests have plenty of water and comfortable spots to nap during the festivities\"\n",
    "image = stable_diffusion_xl(prompt).images[0]\n",
    "image.save(\"./dog-image4.png\")"
   ]
  },
  {
   "cell_type": "code",
   "execution_count": null,
   "id": "57e19a84-d586-4b6c-a1d0-051d9e8883c5",
   "metadata": {},
   "outputs": [],
   "source": []
  }
 ],
 "metadata": {
  "kernelspec": {
   "display_name": "Python 3 (ipykernel)",
   "language": "python",
   "name": "python3"
  },
  "language_info": {
   "codemirror_mode": {
    "name": "ipython",
    "version": 3
   },
   "file_extension": ".py",
   "mimetype": "text/x-python",
   "name": "python",
   "nbconvert_exporter": "python",
   "pygments_lexer": "ipython3",
   "version": "3.8.10"
  }
 },
 "nbformat": 4,
 "nbformat_minor": 5
}
